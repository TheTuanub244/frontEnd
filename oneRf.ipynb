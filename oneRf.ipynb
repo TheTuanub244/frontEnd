{
  "cells": [
    {
      "cell_type": "markdown",
      "metadata": {
        "id": "view-in-github",
        "colab_type": "text"
      },
      "source": [
        "<a href=\"https://colab.research.google.com/github/TheTuanub244/frontEnd/blob/main/oneRf.ipynb\" target=\"_parent\"><img src=\"https://colab.research.google.com/assets/colab-badge.svg\" alt=\"Open In Colab\"/></a>"
      ]
    },
    {
      "cell_type": "code",
      "execution_count": 2,
      "metadata": {
        "id": "QLLuhdyAsj61"
      },
      "outputs": [],
      "source": [
        "import torch\n",
        "import numpy as np\n",
        "import os\n",
        "import matplotlib.pyplot as plt\n",
        "import csv\n",
        "import joblib\n",
        "import pandas as pd\n",
        "from sklearn.ensemble import RandomForestClassifier\n",
        "from sklearn.utils import shuffle\n",
        "from sklearn.metrics import accuracy_score, precision_score, recall_score, f1_score, confusion_matrix, roc_curve, auc, precision_recall_curve, PrecisionRecallDisplay, average_precision_score"
      ]
    },
    {
      "cell_type": "code",
      "execution_count": 75,
      "metadata": {
        "id": "EdYQLEqFsj68"
      },
      "outputs": [],
      "source": [
        "def load_X(path):\n",
        "  list_file = os.listdir(path)\n",
        "  list_file.sort(key=str.lower)\n",
        "  X_signals = []\n",
        "  for index in list_file:\n",
        "    fileName = os.path.join(path, index)\n",
        "    file = open(fileName, 'r')\n",
        "    X_signals.append(\n",
        "            [np.array(cell, dtype=np.float32) for cell in [\n",
        "                row.strip().split(' ') for row in file\n",
        "            ]]\n",
        "    )\n",
        "    file.close\n",
        "  return np.transpose(np.array(X_signals), (1, 2, 0))\n",
        "\n",
        "def load_y(y_path):\n",
        "    file = open(y_path, 'r')\n",
        "    y_ = np.array(\n",
        "        [elem for elem in [\n",
        "            row.replace('  ', ' ').strip().split(' ') for row in file\n",
        "        ]],\n",
        "        dtype=np.int32\n",
        "    )\n",
        "    file.close()\n",
        "    y_ = y_ - 1\n",
        "    y_ = y_.reshape(len(y_))\n",
        "    n_values = int(np.max(y_)) + 1\n",
        "    return np.eye(n_values)[np.array(y_, dtype=np.int32)]\n"
      ]
    },
    {
      "cell_type": "code",
      "execution_count": 76,
      "metadata": {
        "colab": {
          "base_uri": "https://localhost:8080/"
        },
        "id": "SQCcVMdAsj69",
        "outputId": "322b6271-f493-4bde-99b6-1605c92a3526"
      },
      "outputs": [
        {
          "output_type": "stream",
          "name": "stdout",
          "text": [
            "(8980, 608, 1)\n",
            "(3842, 608, 1)\n",
            "(8980, 2)\n",
            "(3842, 2)\n"
          ]
        }
      ],
      "source": [
        "X_train = load_X('Data/LAR_txt/train')\n",
        "X_test = load_X('Data/LAR_txt/test')\n",
        "train_label = load_y('Data/LAR_txt/label/trainLabel_2.txt')\n",
        "test_label = load_y('Data/LAR_txt/label/testLabel_2.txt')\n",
        "\n",
        "print(X_train.shape)\n",
        "print(X_test.shape)\n",
        "print(train_label.shape)\n",
        "print(test_label.shape)"
      ]
    },
    {
      "cell_type": "code",
      "source": [
        "path = 'Data/OU_center_txt/train/label/train_label2.txt'\n",
        "def read_csv_file(path):\n",
        "  unique_values = {}\n",
        "  with open(path, 'r') as file:\n",
        "    reader = csv.reader(file)\n",
        "    for row in reader:\n",
        "      for value in row:\n",
        "        if value in unique_values:\n",
        "          unique_values[value] += 1\n",
        "        else:\n",
        "          unique_values[value] = 1\n",
        "  return unique_values\n",
        "unique_values = read_csv_file(path)\n",
        "print(unique_values)"
      ],
      "metadata": {
        "colab": {
          "base_uri": "https://localhost:8080/"
        },
        "id": "jLszUudT22PQ",
        "outputId": "92d4552b-b99a-4a76-827f-d2a250899dc4"
      },
      "execution_count": 77,
      "outputs": [
        {
          "output_type": "stream",
          "name": "stdout",
          "text": [
            "{'1': 25701, '2': 78424}\n"
          ]
        }
      ]
    },
    {
      "cell_type": "code",
      "source": [
        "label_train_single = np.argmax(train_label, axis=1)\n",
        "label_test_single = np.argmax(test_label, axis=1)\n",
        "\n",
        "X_train_flatten = X_train.reshape((X_train.shape[0], -1))\n",
        "X_test_flatten = X_test.reshape((X_test.shape[0], -1))\n",
        "\n",
        "\n",
        "num_label_1 = np.sum(label_train_single == 0)\n",
        "num_label_2 = np.sum(label_train_single == 1)\n",
        "num_label_3 = np.sum(label_test_single == 0)\n",
        "num_label_4 = np.sum(label_test_single == 1)\n",
        "weight = num_label_2 / num_label_1\n",
        "class_weight = {0: 1, 1: weight}\n",
        "\n",
        "\n",
        "\n"
      ],
      "metadata": {
        "id": "bDsQnhjW3qKi"
      },
      "execution_count": 106,
      "outputs": []
    },
    {
      "cell_type": "code",
      "source": [
        "rf = RandomForestClassifier(n_estimators=100, class_weight=class_weight)\n",
        "rf.fit(X_train_flatten, label_train_single)"
      ],
      "metadata": {
        "colab": {
          "base_uri": "https://localhost:8080/",
          "height": 75
        },
        "id": "nc7drIEX52M1",
        "outputId": "da7caa02-21f8-4a65-f9a0-df49c90b9c44"
      },
      "execution_count": 107,
      "outputs": [
        {
          "output_type": "execute_result",
          "data": {
            "text/plain": [
              "RandomForestClassifier(class_weight={0: 1, 1: 1.8168130489335006})"
            ],
            "text/html": [
              "<style>#sk-container-id-4 {color: black;}#sk-container-id-4 pre{padding: 0;}#sk-container-id-4 div.sk-toggleable {background-color: white;}#sk-container-id-4 label.sk-toggleable__label {cursor: pointer;display: block;width: 100%;margin-bottom: 0;padding: 0.3em;box-sizing: border-box;text-align: center;}#sk-container-id-4 label.sk-toggleable__label-arrow:before {content: \"▸\";float: left;margin-right: 0.25em;color: #696969;}#sk-container-id-4 label.sk-toggleable__label-arrow:hover:before {color: black;}#sk-container-id-4 div.sk-estimator:hover label.sk-toggleable__label-arrow:before {color: black;}#sk-container-id-4 div.sk-toggleable__content {max-height: 0;max-width: 0;overflow: hidden;text-align: left;background-color: #f0f8ff;}#sk-container-id-4 div.sk-toggleable__content pre {margin: 0.2em;color: black;border-radius: 0.25em;background-color: #f0f8ff;}#sk-container-id-4 input.sk-toggleable__control:checked~div.sk-toggleable__content {max-height: 200px;max-width: 100%;overflow: auto;}#sk-container-id-4 input.sk-toggleable__control:checked~label.sk-toggleable__label-arrow:before {content: \"▾\";}#sk-container-id-4 div.sk-estimator input.sk-toggleable__control:checked~label.sk-toggleable__label {background-color: #d4ebff;}#sk-container-id-4 div.sk-label input.sk-toggleable__control:checked~label.sk-toggleable__label {background-color: #d4ebff;}#sk-container-id-4 input.sk-hidden--visually {border: 0;clip: rect(1px 1px 1px 1px);clip: rect(1px, 1px, 1px, 1px);height: 1px;margin: -1px;overflow: hidden;padding: 0;position: absolute;width: 1px;}#sk-container-id-4 div.sk-estimator {font-family: monospace;background-color: #f0f8ff;border: 1px dotted black;border-radius: 0.25em;box-sizing: border-box;margin-bottom: 0.5em;}#sk-container-id-4 div.sk-estimator:hover {background-color: #d4ebff;}#sk-container-id-4 div.sk-parallel-item::after {content: \"\";width: 100%;border-bottom: 1px solid gray;flex-grow: 1;}#sk-container-id-4 div.sk-label:hover label.sk-toggleable__label {background-color: #d4ebff;}#sk-container-id-4 div.sk-serial::before {content: \"\";position: absolute;border-left: 1px solid gray;box-sizing: border-box;top: 0;bottom: 0;left: 50%;z-index: 0;}#sk-container-id-4 div.sk-serial {display: flex;flex-direction: column;align-items: center;background-color: white;padding-right: 0.2em;padding-left: 0.2em;position: relative;}#sk-container-id-4 div.sk-item {position: relative;z-index: 1;}#sk-container-id-4 div.sk-parallel {display: flex;align-items: stretch;justify-content: center;background-color: white;position: relative;}#sk-container-id-4 div.sk-item::before, #sk-container-id-4 div.sk-parallel-item::before {content: \"\";position: absolute;border-left: 1px solid gray;box-sizing: border-box;top: 0;bottom: 0;left: 50%;z-index: -1;}#sk-container-id-4 div.sk-parallel-item {display: flex;flex-direction: column;z-index: 1;position: relative;background-color: white;}#sk-container-id-4 div.sk-parallel-item:first-child::after {align-self: flex-end;width: 50%;}#sk-container-id-4 div.sk-parallel-item:last-child::after {align-self: flex-start;width: 50%;}#sk-container-id-4 div.sk-parallel-item:only-child::after {width: 0;}#sk-container-id-4 div.sk-dashed-wrapped {border: 1px dashed gray;margin: 0 0.4em 0.5em 0.4em;box-sizing: border-box;padding-bottom: 0.4em;background-color: white;}#sk-container-id-4 div.sk-label label {font-family: monospace;font-weight: bold;display: inline-block;line-height: 1.2em;}#sk-container-id-4 div.sk-label-container {text-align: center;}#sk-container-id-4 div.sk-container {/* jupyter's `normalize.less` sets `[hidden] { display: none; }` but bootstrap.min.css set `[hidden] { display: none !important; }` so we also need the `!important` here to be able to override the default hidden behavior on the sphinx rendered scikit-learn.org. See: https://github.com/scikit-learn/scikit-learn/issues/21755 */display: inline-block !important;position: relative;}#sk-container-id-4 div.sk-text-repr-fallback {display: none;}</style><div id=\"sk-container-id-4\" class=\"sk-top-container\"><div class=\"sk-text-repr-fallback\"><pre>RandomForestClassifier(class_weight={0: 1, 1: 1.8168130489335006})</pre><b>In a Jupyter environment, please rerun this cell to show the HTML representation or trust the notebook. <br />On GitHub, the HTML representation is unable to render, please try loading this page with nbviewer.org.</b></div><div class=\"sk-container\" hidden><div class=\"sk-item\"><div class=\"sk-estimator sk-toggleable\"><input class=\"sk-toggleable__control sk-hidden--visually\" id=\"sk-estimator-id-4\" type=\"checkbox\" checked><label for=\"sk-estimator-id-4\" class=\"sk-toggleable__label sk-toggleable__label-arrow\">RandomForestClassifier</label><div class=\"sk-toggleable__content\"><pre>RandomForestClassifier(class_weight={0: 1, 1: 1.8168130489335006})</pre></div></div></div></div></div>"
            ]
          },
          "metadata": {},
          "execution_count": 107
        }
      ]
    },
    {
      "cell_type": "code",
      "source": [
        "test_label_probabilities = rf.predict_proba(X_test_flatten)\n",
        "precision, recall, thresholds = precision_recall_curve(label_test_single, test_label_probabilities[:, 1])\n",
        "average_precision = average_precision_score(label_test_single, test_label_probabilities[:, 1])\n",
        "\n",
        "test_label_predictions = (test_label_probabilities[:, 1] > 0.5).astype(int)\n",
        "test_label_predictions"
      ],
      "metadata": {
        "colab": {
          "base_uri": "https://localhost:8080/"
        },
        "id": "2saSWYj76_2J",
        "outputId": "61f99f81-5340-49db-ff36-6774c7d499d9"
      },
      "execution_count": 108,
      "outputs": [
        {
          "output_type": "execute_result",
          "data": {
            "text/plain": [
              "array([1, 1, 1, ..., 1, 1, 1])"
            ]
          },
          "metadata": {},
          "execution_count": 108
        }
      ]
    },
    {
      "cell_type": "code",
      "source": [
        "accuracy = accuracy_score(label_test_single, test_label_predictions)\n",
        "precision = precision_score(label_test_single, test_label_predictions, average='macro')\n",
        "recall = recall_score(label_test_single, test_label_predictions, average='macro')\n",
        "f1 = f1_score(label_test_single, test_label_predictions, average='macro')\n",
        "conf_matrix = confusion_matrix(label_test_single, test_label_predictions)\n",
        "print(\"Test Accuracy:\", accuracy)\n",
        "print(\"Precision:\", precision)\n",
        "print(\"Recall:\", recall)\n",
        "print(\"F1 Score:\", f1)\n",
        "print(\"Confusion Matrix:\")\n",
        "print(conf_matrix)"
      ],
      "metadata": {
        "colab": {
          "base_uri": "https://localhost:8080/"
        },
        "id": "xfZtY1f272Lg",
        "outputId": "188be68c-a4ce-4946-8f00-d198e49a00bb"
      },
      "execution_count": 109,
      "outputs": [
        {
          "output_type": "stream",
          "name": "stdout",
          "text": [
            "Test Accuracy: 0.9362311296199896\n",
            "Precision: 0.9283063274039484\n",
            "Recall: 0.9336073561749783\n",
            "F1 Score: 0.9308364992889229\n",
            "Confusion Matrix:\n",
            "[[1262  103]\n",
            " [ 142 2335]]\n"
          ]
        }
      ]
    },
    {
      "cell_type": "code",
      "source": [
        "accuracy = accuracy_score(label_test_single, test_label_predictions)\n",
        "precision = precision_score(label_test_single, test_label_predictions, average='binary')\n",
        "recall = recall_score(label_test_single, test_label_predictions, average='binary')\n",
        "f1 = f1_score(label_test_single, test_label_predictions, average='binary')\n",
        "conf_matrix = confusion_matrix(label_test_single, test_label_predictions)\n",
        "print(\"Test Accuracy:\", accuracy)\n",
        "print(\"Precision:\", precision)\n",
        "print(\"Recall:\", recall)\n",
        "print(\"F1 Score:\", f1)\n",
        "print(\"Confusion Matrix:\")\n",
        "print(conf_matrix)"
      ],
      "metadata": {
        "colab": {
          "base_uri": "https://localhost:8080/"
        },
        "id": "ZlS-8ZNI9unq",
        "outputId": "5a6585f5-2255-4742-8a35-ac0b1dfa798f"
      },
      "execution_count": 115,
      "outputs": [
        {
          "output_type": "stream",
          "name": "stdout",
          "text": [
            "Test Accuracy: 0.9362311296199896\n",
            "Precision: 0.9577522559474979\n",
            "Recall: 0.942672587807832\n",
            "F1 Score: 0.9501525940996948\n",
            "Confusion Matrix:\n",
            "[[1262  103]\n",
            " [ 142 2335]]\n"
          ]
        }
      ]
    },
    {
      "cell_type": "code",
      "source": [
        "with open ('results/LAR/2/KQ/RfBinary.csv', mode='a', newline='') as file:\n",
        "  writer = csv.writer(file)\n",
        "  writer.writerow(['metric', 'Rf'])\n",
        "  writer.writerow(['accuracy', accuracy])\n",
        "  writer.writerow(['precision', precision])\n",
        "  writer.writerow(['recall', recall])\n",
        "  writer.writerow(['f1', f1])\n",
        "  writer.writerow(['confusion_matrix', conf_matrix])"
      ],
      "metadata": {
        "id": "OdMcVKSb9Khh"
      },
      "execution_count": 113,
      "outputs": []
    }
  ],
  "metadata": {
    "kernelspec": {
      "display_name": "DA1",
      "language": "python",
      "name": "python3"
    },
    "language_info": {
      "codemirror_mode": {
        "name": "ipython",
        "version": 3
      },
      "file_extension": ".py",
      "mimetype": "text/x-python",
      "name": "python",
      "nbconvert_exporter": "python",
      "pygments_lexer": "ipython3",
      "version": "3.11.5"
    },
    "colab": {
      "provenance": [],
      "include_colab_link": true
    }
  },
  "nbformat": 4,
  "nbformat_minor": 0
}